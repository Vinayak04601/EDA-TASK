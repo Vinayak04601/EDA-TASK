{
 "cells": [
  {
   "cell_type": "markdown",
   "id": "cb02cfac",
   "metadata": {},
   "source": [
    "EDA Automation \n",
    "\n",
    "1)Using Pandas Profiling"
   ]
  },
  {
   "cell_type": "code",
   "execution_count": null,
   "id": "924d0853",
   "metadata": {},
   "outputs": [],
   "source": [
    "import pandas as pd\n",
    "import pandas_profiling"
   ]
  },
  {
   "cell_type": "code",
   "execution_count": null,
   "id": "d3e14394",
   "metadata": {
    "scrolled": true
   },
   "outputs": [],
   "source": [
    "from pandas_profiling import ProfileReport\n",
    "df = pd.read_csv(\"data8/AgentPerformance.csv\")\n",
    "profile = ProfileReport(df, title=\"Report\")\n",
    "profile"
   ]
  },
  {
   "cell_type": "markdown",
   "id": "cb117009",
   "metadata": {},
   "source": [
    "2)Using Data Prep"
   ]
  },
  {
   "cell_type": "code",
   "execution_count": null,
   "id": "6f6fbd31",
   "metadata": {},
   "outputs": [],
   "source": [
    "!pip install dataprep"
   ]
  },
  {
   "cell_type": "code",
   "execution_count": null,
   "id": "7edc3179",
   "metadata": {},
   "outputs": [],
   "source": [
    "import pandas as pd\n",
    "from dataprep.eda import create_report\n",
    "df = pd.read_csv(\"data8/AgentPerformance.csv\")\n",
    "create_report(df)"
   ]
  },
  {
   "cell_type": "markdown",
   "id": "efe95708",
   "metadata": {},
   "source": [
    "3)Using SweetViz ( It will generate an HTML report)"
   ]
  },
  {
   "cell_type": "code",
   "execution_count": null,
   "id": "dca0481f",
   "metadata": {},
   "outputs": [],
   "source": [
    "!pip install sweetviz"
   ]
  },
  {
   "cell_type": "code",
   "execution_count": null,
   "id": "c4199712",
   "metadata": {},
   "outputs": [],
   "source": [
    "import sweetviz as sv\n",
    "df = pd.read_csv(\"data8/AgentPerformance.csv\")\n",
    "analyze_report = sv.analyze(df)\n",
    "analyze_report.show_html('report.html', open_browser=False)"
   ]
  },
  {
   "cell_type": "markdown",
   "id": "3e7e1938",
   "metadata": {},
   "source": [
    "4)Using Autoviz"
   ]
  },
  {
   "cell_type": "code",
   "execution_count": null,
   "id": "ecc75df1",
   "metadata": {},
   "outputs": [],
   "source": [
    "!pip install Autoviz"
   ]
  },
  {
   "cell_type": "code",
   "execution_count": null,
   "id": "ded6f2c6",
   "metadata": {},
   "outputs": [],
   "source": [
    "from autoviz.AutoViz_Class import AutoViz_Class\n",
    "AV = AutoViz_Class()\n",
    "df_av = AV.AutoViz(\"data8/AgentPerformance.csv\")"
   ]
  },
  {
   "cell_type": "code",
   "execution_count": null,
   "id": "9b19c9b0",
   "metadata": {},
   "outputs": [],
   "source": []
  }
 ],
 "metadata": {
  "kernelspec": {
   "display_name": "Python 3 (ipykernel)",
   "language": "python",
   "name": "python3"
  },
  "language_info": {
   "codemirror_mode": {
    "name": "ipython",
    "version": 3
   },
   "file_extension": ".py",
   "mimetype": "text/x-python",
   "name": "python",
   "nbconvert_exporter": "python",
   "pygments_lexer": "ipython3",
   "version": "3.9.12"
  }
 },
 "nbformat": 4,
 "nbformat_minor": 5
}
